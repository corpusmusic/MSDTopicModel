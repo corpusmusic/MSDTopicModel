{
 "cells": [
  {
   "cell_type": "code",
   "execution_count": 122,
   "metadata": {
    "collapsed": false
   },
   "outputs": [
    {
     "data": {
      "text/plain": [
       "array([['TRATYJI128F4255D27', 'Bombay Rockers', 'Rock Tha Party', ...,\n",
       "        '2|0.000177982814357', '0|5.80219379829e-05',\n",
       "        '15|3.96931023418e-05'],\n",
       "       ['TRANIWL128F4262AB0', 'Bare Jr.', 'Tobacco Spit', ...,\n",
       "        '2|0.000514980109593', '0|0.000167882186205',\n",
       "        '15|0.000114849055893'],\n",
       "       ['TRABXPR128F92F27FE', 'Cauterize', 'Shooting Stars', ...,\n",
       "        '2|0.00024647645101', '0|8.0350686702e-05', '15|5.49683126998e-05'],\n",
       "       ..., \n",
       "       ['TRAWHZK12903CB5A01', 'Everyday Sunday', 'Comfort Zone', ...,\n",
       "        '2|0.000327883003314', '0|0.000106889012586',\n",
       "        '15|7.31233161678e-05'],\n",
       "       ['TRBCWYJ128F93213A1', 'Eleanor McEvoy', 'Easy To Lose Hope', ...,\n",
       "        '2|0.000189898899207', '0|6.19065508805e-05',\n",
       "        '15|4.23505857466e-05'],\n",
       "       ['TRBHJLT128F1460832', 'UFO', 'Cherry', ..., '2|0.000289620512439',\n",
       "        '0|9.4415539343e-05', '15|6.45901497964e-05']], \n",
       "      dtype='|S94')"
      ]
     },
     "execution_count": 122,
     "metadata": {},
     "output_type": "execute_result"
    }
   ],
   "source": [
    "%matplotlib inline\n",
    "import matplotlib.pyplot as plt\n",
    "import numpy as np\n",
    "import os\n",
    "dat = np.genfromtxt('orderedTopicModel.tsv', dtype=str, delimiter='\\t')\n",
    "dat"
   ]
  },
  {
   "cell_type": "code",
   "execution_count": 123,
   "metadata": {
    "collapsed": false
   },
   "outputs": [],
   "source": [
    "nums = []\n",
    "for data in dat:\n",
    "    num = [int(data[4].split('|')[0]), float(data[4].split('|')[1])]\n",
    "    nums.append(num)"
   ]
  },
  {
   "cell_type": "code",
   "execution_count": 124,
   "metadata": {
    "collapsed": false
   },
   "outputs": [
    {
     "data": {
      "text/plain": [
       "<matplotlib.text.Text at 0x7fef9027dfd0>"
      ]
     },
     "execution_count": 124,
     "metadata": {},
     "output_type": "execute_result"
    },
    {
     "data": {
      "image/png": "[encoded data removed]",
      "text/plain": [
       "<matplotlib.figure.Figure at 0x7fef906e8810>"
      ]
     },
     "metadata": {},
     "output_type": "display_data"
    }
   ],
   "source": [
    "sor = [i for i,k in nums]\n",
    "plt.hist(sor, bins=25)\n",
    "plt.title('Frequency of most common Topic Number')"
   ]
  },
  {
   "cell_type": "code",
   "execution_count": 5,
   "metadata": {
    "collapsed": false
   },
   "outputs": [
    {
     "data": {
      "text/plain": [
       "array(['12', '0.52197', 'you', 'not', 'that', 'and', 'have', 'but', 'what',\n",
       "       'the', 'know', 'all', 'just', 'this', 'was', 'for', 'would', 'now',\n",
       "       'could', 'never', 'thing', 'whi'], \n",
       "      dtype='|S9')"
      ]
     },
     "execution_count": 5,
     "metadata": {},
     "output_type": "execute_result"
    }
   ],
   "source": [
    "np.genfromtxt('topics.txt', dtype=str)[12]"
   ]
  },
  {
   "cell_type": "code",
   "execution_count": 125,
   "metadata": {
    "collapsed": false
   },
   "outputs": [],
   "source": [
    "genre1 = []\n",
    "genre2 = []\n",
    "topic = []\n",
    "unique = []\n",
    "for data in dat:\n",
    "    genre1.append(data[3].split('|')[0])\n",
    "    try:\n",
    "        genre2.append(data[3].split('|')[1])\n",
    "    except:\n",
    "        continue\n",
    "    topic.append(int(data[5].split('|')[0]))\n",
    "    if data[3].split('|')[0] not in unique:\n",
    "        unique.append(data[3].split('|')[0])\n",
    "        \n",
    "genreDict = {}\n",
    "for genre in unique:\n",
    "    genreDict[genre] = 0\n",
    "for song in genre1:\n",
    "    genreDict[song]+=1"
   ]
  },
  {
   "cell_type": "code",
   "execution_count": 126,
   "metadata": {
    "collapsed": false
   },
   "outputs": [
    {
     "data": {
      "text/plain": [
       "<matplotlib.text.Text at 0x7fef9013e8d0>"
      ]
     },
     "execution_count": 126,
     "metadata": {},
     "output_type": "execute_result"
    },
    {
     "data": {
      "image/png": "[encoded data removed]",
      "text/plain": [
       "<matplotlib.figure.Figure at 0x7fef9054fad0>"
      ]
     },
     "metadata": {},
     "output_type": "display_data"
    }
   ],
   "source": [
    "X = np.arange(len(genreDict))\n",
    "plt.bar(X, genreDict.values(), width=0.9, align='center')\n",
    "plt.xticks(X, genreDict.keys(), rotation='vertical')\n",
    "ymax = max(genreDict.values()) + 25\n",
    "plt.ylim(0, ymax)\n",
    "plt.title('Frequency of Top Genre for Each Song')"
   ]
  },
  {
   "cell_type": "code",
   "execution_count": 127,
   "metadata": {
    "collapsed": false
   },
   "outputs": [
    {
     "data": {
      "text/plain": [
       "1267"
      ]
     },
     "execution_count": 127,
     "metadata": {},
     "output_type": "execute_result"
    }
   ],
   "source": [
    "sum(genreDict.values())"
   ]
  },
  {
   "cell_type": "code",
   "execution_count": null,
   "metadata": {
    "collapsed": true
   },
   "outputs": [],
   "source": []
  }
 ],
 "metadata": {
  "kernelspec": {
   "display_name": "Python 2",
   "language": "python",
   "name": "python2"
  },
  "language_info": {
   "codemirror_mode": {
    "name": "ipython",
    "version": 2
   },
   "file_extension": ".py",
   "mimetype": "text/x-python",
   "name": "python",
   "nbconvert_exporter": "python",
   "pygments_lexer": "ipython2",
   "version": "2.7.11"
  }
 },
 "nbformat": 4,
 "nbformat_minor": 0
}
