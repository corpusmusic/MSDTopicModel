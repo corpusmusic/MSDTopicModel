{
 "cells": [
  {
   "cell_type": "code",
   "execution_count": 153,
   "metadata": {
    "collapsed": false
   },
   "outputs": [],
   "source": [
    "%matplotlib inline\n",
    "import matplotlib.pyplot as plt\n",
    "import numpy as np\n",
    "import os\n",
    "dat = np.genfromtxt('orderedTopicModel.tsv', dtype=str, delimiter='\\t')"
   ]
  },
  {
   "cell_type": "code",
   "execution_count": 154,
   "metadata": {
    "collapsed": false
   },
   "outputs": [],
   "source": [
    "nums = []\n",
    "for data in dat:\n",
    "    num = [int(data[4].split('|')[0]), float(data[4].split('|')[1])]\n",
    "    nums.append(num)"
   ]
  },
  {
   "cell_type": "code",
   "execution_count": 156,
   "metadata": {
    "collapsed": false
   },
   "outputs": [
    {
     "data": {
      "text/plain": [
       "<matplotlib.text.Text at 0x7fef8f5790d0>"
      ]
     },
     "execution_count": 156,
     "metadata": {},
     "output_type": "execute_result"
    },
    {
     "data": {
      "image/png": "[encoded data removed]",
      "text/plain": [
       "<matplotlib.figure.Figure at 0x7fef8f67c550>"
      ]
     },
     "metadata": {},
     "output_type": "display_data"
    }
   ],
   "source": [
    "sor = [i for i,k in nums]\n",
    "plt.hist(sor, bins=50)\n",
    "plt.title('Frequency of most common Topic Number')"
   ]
  },
  {
   "cell_type": "code",
   "execution_count": 157,
   "metadata": {
    "collapsed": false
   },
   "outputs": [
    {
     "data": {
      "text/plain": [
       "array(['12', '0.52197', 'you', 'not', 'that', 'and', 'have', 'but', 'what',\n",
       "       'the', 'know', 'all', 'just', 'this', 'was', 'for', 'would', 'now',\n",
       "       'could', 'never', 'thing', 'whi'], \n",
       "      dtype='|S9')"
      ]
     },
     "execution_count": 157,
     "metadata": {},
     "output_type": "execute_result"
    }
   ],
   "source": [
    "np.genfromtxt('topics.txt', dtype=str)[12]"
   ]
  },
  {
   "cell_type": "code",
   "execution_count": 158,
   "metadata": {
    "collapsed": false
   },
   "outputs": [],
   "source": [
    "genre1 = []\n",
    "genre2 = []\n",
    "topic = []\n",
    "unique = []\n",
    "for data in dat:\n",
    "    genre1.append(data[3].split('|')[0])\n",
    "    topic.append(int(data[5].split('|')[0]))\n",
    "    if data[3].split('|')[0] not in unique:\n",
    "        unique.append(data[3].split('|')[0])\n",
    "        \n",
    "genreDict = {}\n",
    "for genre in unique:\n",
    "    genreDict[genre] = 0\n",
    "for song in genre1:\n",
    "    genreDict[song]+=1"
   ]
  },
  {
   "cell_type": "code",
   "execution_count": 159,
   "metadata": {
    "collapsed": false
   },
   "outputs": [
    {
     "data": {
      "text/plain": [
       "<matplotlib.text.Text at 0x7fef8f3e4f10>"
      ]
     },
     "execution_count": 159,
     "metadata": {},
     "output_type": "execute_result"
    },
    {
     "data": {
      "image/png": "[encoded data removed]",
      "text/plain": [
       "<matplotlib.figure.Figure at 0x7fef8f67c2d0>"
      ]
     },
     "metadata": {},
     "output_type": "display_data"
    }
   ],
   "source": [
    "X = np.arange(len(genreDict))\n",
    "plt.bar(X, genreDict.values(), width=0.9, align='center')\n",
    "plt.xticks(X, genreDict.keys(), rotation='vertical')\n",
    "ymax = max(genreDict.values()) + 25\n",
    "plt.ylim(0, ymax)\n",
    "plt.title('Frequency of Top Genre for Each Song')"
   ]
  },
  {
   "cell_type": "code",
   "execution_count": 152,
   "metadata": {
    "collapsed": false
   },
   "outputs": [
    {
     "data": {
      "text/plain": [
       "1267"
      ]
     },
     "execution_count": 152,
     "metadata": {},
     "output_type": "execute_result"
    }
   ],
   "source": [
    "sum(genreDict.values())"
   ]
  },
  {
   "cell_type": "code",
   "execution_count": null,
   "metadata": {
    "collapsed": true
   },
   "outputs": [],
   "source": []
  }
 ],
 "metadata": {
  "kernelspec": {
   "display_name": "Python 2",
   "language": "python",
   "name": "python2"
  },
  "language_info": {
   "codemirror_mode": {
    "name": "ipython",
    "version": 2
   },
   "file_extension": ".py",
   "mimetype": "text/x-python",
   "name": "python",
   "nbconvert_exporter": "python",
   "pygments_lexer": "ipython2",
   "version": "2.7.11"
  }
 },
 "nbformat": 4,
 "nbformat_minor": 0
}
